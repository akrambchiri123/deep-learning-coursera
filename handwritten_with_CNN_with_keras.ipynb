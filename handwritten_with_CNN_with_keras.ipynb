{
  "nbformat": 4,
  "nbformat_minor": 0,
  "metadata": {
    "colab": {
      "name": "handwritten_with_CNN with keras.ipynb",
      "provenance": [],
      "authorship_tag": "ABX9TyNFZxF7E3ig3PXK8u0b4bcu",
      "include_colab_link": true
    },
    "kernelspec": {
      "name": "python3",
      "display_name": "Python 3"
    }
  },
  "cells": [
    {
      "cell_type": "markdown",
      "metadata": {
        "id": "view-in-github",
        "colab_type": "text"
      },
      "source": [
        "<a href=\"https://colab.research.google.com/github/akrambchiri123/deep-learning-coursera/blob/master/handwritten_with_CNN_with_keras.ipynb\" target=\"_parent\"><img src=\"https://colab.research.google.com/assets/colab-badge.svg\" alt=\"Open In Colab\"/></a>"
      ]
    },
    {
      "cell_type": "code",
      "metadata": {
        "id": "NlsW7qFRaJVm"
      },
      "source": [
        "import numpy as np \n",
        "import keras  \n",
        "from keras.datasets import mnist \n",
        "from keras.models import Model \n",
        "from keras.layers import Dense, Input\n",
        "from keras.layers import Conv2D, MaxPooling2D, Dropout, Flatten \n",
        "from keras import backend as k \n",
        "import pandas as pd\n"
      ],
      "execution_count": null,
      "outputs": []
    },
    {
      "cell_type": "code",
      "metadata": {
        "colab": {
          "base_uri": "https://localhost:8080/"
        },
        "id": "voXcmKhBaQzo",
        "outputId": "3958f8d7-0698-4e07-90f2-5b39910357dc"
      },
      "source": [
        "(x_train, y_train), (x_test, y_test) = mnist.load_data() \n",
        "print(x_train.shape)"
      ],
      "execution_count": null,
      "outputs": [
        {
          "output_type": "stream",
          "text": [
            "Downloading data from https://storage.googleapis.com/tensorflow/tf-keras-datasets/mnist.npz\n",
            "11493376/11490434 [==============================] - 0s 0us/step\n",
            "(60000, 28, 28)\n"
          ],
          "name": "stdout"
        }
      ]
    },
    {
      "cell_type": "code",
      "metadata": {
        "colab": {
          "base_uri": "https://localhost:8080/"
        },
        "id": "UF05PQHAaeys",
        "outputId": "dbb118de-834b-4335-dcbb-7ee267059bab"
      },
      "source": [
        "img_rows, img_cols=28, 28\n",
        "\n",
        "if k.image_data_format() == 'channels_first':\n",
        "  x_train = x_train.reshape(x_train.shape[0], 1, img_rows, img_cols) \n",
        "  x_test = x_test.reshape(x_test.shape[0], 1, img_rows, img_cols) \n",
        "  inpx = (1, img_rows, img_cols)  \n",
        "\n",
        "\n",
        "else: \n",
        "  x_train = x_train.reshape(x_train.shape[0], img_rows, img_cols, 1) \n",
        "  x_test = x_test.reshape(x_test.shape[0], img_rows, img_cols, 1) \n",
        "  inpx = (img_rows, img_cols, 1) \n",
        "\n",
        "x_train = x_train.astype('float32') \n",
        "x_test = x_test.astype('float32') \n",
        "x_train /= 255\n",
        "x_test /= 255\n",
        "print(y_train)"
      ],
      "execution_count": null,
      "outputs": [
        {
          "output_type": "stream",
          "text": [
            "[5 0 4 ... 5 6 8]\n"
          ],
          "name": "stdout"
        }
      ]
    },
    {
      "cell_type": "markdown",
      "metadata": {
        "id": "ICvxx3P1caUY"
      },
      "source": [
        "To make output for 10 classes, use keras.utils.to_categorical function, which will provide with the 10 columns. Out of these 10 columns only one value will be one and rest 9 will be zero and this one value of the output will denote the class of the digit."
      ]
    },
    {
      "cell_type": "code",
      "metadata": {
        "id": "3Nn8Piiyb-od"
      },
      "source": [
        "y_train = keras.utils.to_categorical(y_train) \n",
        "y_test = keras.utils.to_categorical(y_test) "
      ],
      "execution_count": null,
      "outputs": []
    },
    {
      "cell_type": "code",
      "metadata": {
        "colab": {
          "base_uri": "https://localhost:8080/"
        },
        "id": "Vh2Vw89Pcfzu",
        "outputId": "7aa3ca48-88ab-40fd-8bb9-31c6a2b2fb4b"
      },
      "source": [
        "y_train[0] # le numero est 5 alors"
      ],
      "execution_count": null,
      "outputs": [
        {
          "output_type": "execute_result",
          "data": {
            "text/plain": [
              "array([0., 0., 0., 0., 0., 1., 0., 0., 0., 0.], dtype=float32)"
            ]
          },
          "metadata": {
            "tags": []
          },
          "execution_count": 6
        }
      ]
    },
    {
      "cell_type": "code",
      "metadata": {
        "id": "n-BPF033chOG"
      },
      "source": [
        "inpx = Input(shape=inpx) \n",
        "layer1 = Conv2D(32, kernel_size=(3, 3), activation='relu')(inpx) \n",
        "layer2 = Conv2D(64, (3, 3), activation='relu')(layer1) \n",
        "layer3 = MaxPooling2D(pool_size=(3, 3))(layer2) \n",
        "layer4 = Dropout(0.5)(layer3) \n",
        "layer5 = Flatten()(layer4) \n",
        "layer6 = Dense(250, activation='sigmoid')(layer5) \n",
        "layer7 = Dense(10, activation='softmax')(layer6) "
      ],
      "execution_count": null,
      "outputs": []
    },
    {
      "cell_type": "markdown",
      "metadata": {
        "id": "7gMwc8UrdK4k"
      },
      "source": [
        "Explanation of the working of each layer in CNN model:\n",
        "layer1 is Conv2d layer which convolves the image using 32 filters each of size (3*3).\n",
        "layer2 is again a Conv2D layer which is also used to convolve the image and is using 64 filters each of size (3*3).\n",
        "layer3 is MaxPooling2D layer which picks the max value out of a matrix of size (3*3).\n",
        "layer4 is showing Dropout at a rate of 0.5.\n",
        "layer5 is flattening the output obtained from layer4 and this flatten output is passed to layer6.\n",
        "layer6 is a hidden layer of neural network containng 250 neurons.\n",
        "layer7 is the output layer having 10 neurons for 10 classes of output that is using the softmax function."
      ]
    },
    {
      "cell_type": "markdown",
      "metadata": {
        "id": "J7-xKUEYdaWA"
      },
      "source": [
        "Calling compile and fit function"
      ]
    },
    {
      "cell_type": "code",
      "metadata": {
        "colab": {
          "base_uri": "https://localhost:8080/"
        },
        "id": "Du7go_4Kc9YE",
        "outputId": "76745970-1ebf-4be1-de76-c8dab31a2983"
      },
      "source": [
        "model = Model([inpx], layer7) \n",
        "model.compile(optimizer=keras.optimizers.Adadelta(), \n",
        "\t\t\tloss=keras.losses.categorical_crossentropy, \n",
        "\t\t\tmetrics=['accuracy']) \n",
        "\n",
        "model.fit(x_train, y_train, epochs=12, batch_size=500) \n"
      ],
      "execution_count": null,
      "outputs": [
        {
          "output_type": "stream",
          "text": [
            "Epoch 1/12\n",
            "120/120 [==============================] - 107s 895ms/step - loss: 2.4388 - accuracy: 0.0918\n",
            "Epoch 2/12\n",
            "120/120 [==============================] - 106s 887ms/step - loss: 2.4250 - accuracy: 0.0930\n",
            "Epoch 3/12\n",
            "120/120 [==============================] - 108s 900ms/step - loss: 2.4119 - accuracy: 0.0945\n",
            "Epoch 4/12\n",
            "120/120 [==============================] - 108s 898ms/step - loss: 2.3992 - accuracy: 0.0961\n",
            "Epoch 5/12\n",
            "120/120 [==============================] - 112s 929ms/step - loss: 2.3869 - accuracy: 0.0999\n",
            "Epoch 6/12\n",
            "120/120 [==============================] - 108s 899ms/step - loss: 2.3750 - accuracy: 0.1029\n",
            "Epoch 7/12\n",
            "120/120 [==============================] - 108s 898ms/step - loss: 2.3640 - accuracy: 0.1087\n",
            "Epoch 8/12\n",
            "120/120 [==============================] - 107s 895ms/step - loss: 2.3534 - accuracy: 0.1159\n",
            "Epoch 9/12\n",
            "120/120 [==============================] - 108s 902ms/step - loss: 2.3431 - accuracy: 0.1243\n",
            "Epoch 10/12\n",
            "120/120 [==============================] - 108s 902ms/step - loss: 2.3333 - accuracy: 0.1322\n",
            "Epoch 11/12\n",
            "120/120 [==============================] - 108s 902ms/step - loss: 2.3237 - accuracy: 0.1442\n",
            "Epoch 12/12\n",
            "120/120 [==============================] - 112s 932ms/step - loss: 2.3146 - accuracy: 0.1544\n"
          ],
          "name": "stdout"
        },
        {
          "output_type": "execute_result",
          "data": {
            "text/plain": [
              "<tensorflow.python.keras.callbacks.History at 0x7fee449f4f98>"
            ]
          },
          "metadata": {
            "tags": []
          },
          "execution_count": 8
        }
      ]
    },
    {
      "cell_type": "markdown",
      "metadata": {
        "id": "djq43ybPdzJT"
      },
      "source": [
        "Evaluate function:"
      ]
    },
    {
      "cell_type": "code",
      "metadata": {
        "colab": {
          "base_uri": "https://localhost:8080/"
        },
        "id": "G3B9vMTydeh_",
        "outputId": "1effa8ce-1ad7-4f95-f5a3-9d30405cdcba"
      },
      "source": [
        "score = model.evaluate(x_test, y_test, verbose=0) \n",
        "print('loss=', score[0]) \n",
        "print('accuracy=', score[1]) \n"
      ],
      "execution_count": null,
      "outputs": [
        {
          "output_type": "stream",
          "text": [
            "loss= 2.3044004440307617\n",
            "accuracy= 0.18129999935626984\n"
          ],
          "name": "stdout"
        }
      ]
    },
    {
      "cell_type": "code",
      "metadata": {
        "id": "fhUBiyEFPi65"
      },
      "source": [
        ""
      ],
      "execution_count": null,
      "outputs": []
    }
  ]
}