{
  "nbformat": 4,
  "nbformat_minor": 0,
  "metadata": {
    "colab": {
      "name": "handwritten_with_logistic_regression_bytorch .ipynb",
      "provenance": [],
      "include_colab_link": true
    },
    "kernelspec": {
      "name": "python3",
      "display_name": "Python 3"
    }
  },
  "cells": [
    {
      "cell_type": "markdown",
      "metadata": {
        "id": "view-in-github",
        "colab_type": "text"
      },
      "source": [
        "<a href=\"https://colab.research.google.com/github/akrambchiri123/deep-learning-coursera/blob/master/handwritten_with_logistic_regression_bytorch_.ipynb\" target=\"_parent\"><img src=\"https://colab.research.google.com/assets/colab-badge.svg\" alt=\"Open In Colab\"/></a>"
      ]
    },
    {
      "cell_type": "code",
      "metadata": {
        "id": "Di1aqKEy59hL"
      },
      "source": [
        "import torch \n",
        "import torch.nn as nn \n",
        "import torchvision\n",
        "import torchvision.datasets as dsets \n",
        "import torchvision.transforms as transforms \n",
        "from torch.autograd import Variable \n",
        "import numpy as np\n",
        "import matplotlib.pyplot as plt\n",
        "import torchsampler\n"
      ],
      "execution_count": null,
      "outputs": []
    },
    {
      "cell_type": "code",
      "metadata": {
        "id": "TIzcM8ah6Sls"
      },
      "source": [
        "input_size = 784\n",
        "num_classes = 10\n",
        "num_epochs = 5\n",
        "batch_size = 100\n",
        "learning_rate = 0.001"
      ],
      "execution_count": null,
      "outputs": []
    },
    {
      "cell_type": "code",
      "metadata": {
        "id": "MqH1Cksx5-Bz"
      },
      "source": [
        "# MNIST Dataset (Images and Labels) \n",
        "train_dataset = dsets.MNIST(root ='./data',  \n",
        "                            train = True,  \n",
        "                            transform = transforms.ToTensor(), \n",
        "                            download = True) \n",
        "  \n",
        "test_dataset = dsets.MNIST(root ='./data',  \n",
        "                           train = False,  \n",
        "                           transform = transforms.ToTensor()) \n",
        "  \n",
        "\n"
      ],
      "execution_count": null,
      "outputs": []
    },
    {
      "cell_type": "markdown",
      "metadata": {
        "id": "ZBvQ95YiEhqs"
      },
      "source": [
        "See the labels for each image"
      ]
    },
    {
      "cell_type": "code",
      "metadata": {
        "colab": {
          "base_uri": "https://localhost:8080/"
        },
        "id": "DKZ9u35eEWLw",
        "outputId": "3e85028c-b4da-4888-bb12-29f8d052ff23"
      },
      "source": [
        "train_dataset.targets"
      ],
      "execution_count": null,
      "outputs": [
        {
          "output_type": "execute_result",
          "data": {
            "text/plain": [
              "tensor([5, 0, 4,  ..., 5, 6, 8])"
            ]
          },
          "metadata": {
            "tags": []
          },
          "execution_count": 166
        }
      ]
    },
    {
      "cell_type": "markdown",
      "metadata": {
        "id": "INiXm5EJEyhb"
      },
      "source": [
        "see how many of each label exists in the dataset"
      ]
    },
    {
      "cell_type": "code",
      "metadata": {
        "colab": {
          "base_uri": "https://localhost:8080/"
        },
        "id": "sZkvLHV0Exno",
        "outputId": "a9d6c687-7759-49e8-8736-c8aba9583a4d"
      },
      "source": [
        "train_dataset.targets.bincount()"
      ],
      "execution_count": null,
      "outputs": [
        {
          "output_type": "execute_result",
          "data": {
            "text/plain": [
              "tensor([5923, 6742, 5958, 6131, 5842, 5421, 5918, 6265, 5851, 5949])"
            ]
          },
          "metadata": {
            "tags": []
          },
          "execution_count": 167
        }
      ]
    },
    {
      "cell_type": "markdown",
      "metadata": {
        "id": "b1hGR8exbvPL"
      },
      "source": [
        "=====> imbalanced dataset\n"
      ]
    },
    {
      "cell_type": "markdown",
      "metadata": {
        "id": "MsU2fbcfFIRl"
      },
      "source": [
        "=====> balanced dataset\n"
      ]
    },
    {
      "cell_type": "markdown",
      "metadata": {
        "id": "wxhxS8K0FkT-"
      },
      "source": [
        "to get an item (image,labels) thats why len(sample)=2"
      ]
    },
    {
      "cell_type": "code",
      "metadata": {
        "colab": {
          "base_uri": "https://localhost:8080/"
        },
        "id": "hWqhb-M0FfaR",
        "outputId": "b31472b0-d089-4729-c44b-7ca2379493f0"
      },
      "source": [
        "sample = next(iter(train_dataset))\n",
        "len(sample)\n",
        "print(sample[1])"
      ],
      "execution_count": null,
      "outputs": [
        {
          "output_type": "stream",
          "text": [
            "5\n"
          ],
          "name": "stdout"
        }
      ]
    },
    {
      "cell_type": "code",
      "metadata": {
        "colab": {
          "base_uri": "https://localhost:8080/"
        },
        "id": "ihgKNxH1GGeD",
        "outputId": "72a30921-834d-44bb-c2c6-89e687024ad1"
      },
      "source": [
        "print(type(image))\n",
        "image.shape"
      ],
      "execution_count": null,
      "outputs": [
        {
          "output_type": "stream",
          "text": [
            "<class 'torch.Tensor'>\n"
          ],
          "name": "stdout"
        },
        {
          "output_type": "execute_result",
          "data": {
            "text/plain": [
              "torch.Size([100, 1, 28, 28])"
            ]
          },
          "metadata": {
            "tags": []
          },
          "execution_count": 169
        }
      ]
    },
    {
      "cell_type": "code",
      "metadata": {
        "colab": {
          "base_uri": "https://localhost:8080/"
        },
        "id": "QhLM5MVJGLGC",
        "outputId": "f7118f13-8551-4a12-bdb7-00c36274a5d7"
      },
      "source": [
        "print(type(label))\n",
        "torch.tensor(label).shape\n"
      ],
      "execution_count": null,
      "outputs": [
        {
          "output_type": "stream",
          "text": [
            "<class 'torch.Tensor'>\n"
          ],
          "name": "stdout"
        },
        {
          "output_type": "stream",
          "text": [
            "/usr/local/lib/python3.6/dist-packages/ipykernel_launcher.py:2: UserWarning: To copy construct from a tensor, it is recommended to use sourceTensor.clone().detach() or sourceTensor.clone().detach().requires_grad_(True), rather than torch.tensor(sourceTensor).\n",
            "  \n"
          ],
          "name": "stderr"
        },
        {
          "output_type": "execute_result",
          "data": {
            "text/plain": [
              "torch.Size([100])"
            ]
          },
          "metadata": {
            "tags": []
          },
          "execution_count": 170
        }
      ]
    },
    {
      "cell_type": "markdown",
      "metadata": {
        "id": "zzXQBFSPGrIR"
      },
      "source": [
        "to remove the 1\n"
      ]
    },
    {
      "cell_type": "code",
      "metadata": {
        "colab": {
          "base_uri": "https://localhost:8080/"
        },
        "id": "t6_Nl9EfGuCA",
        "outputId": "dd72e073-c70c-4519-8d36-ac24f84dc42a"
      },
      "source": [
        "image.squeeze().shape"
      ],
      "execution_count": null,
      "outputs": [
        {
          "output_type": "execute_result",
          "data": {
            "text/plain": [
              "torch.Size([100, 28, 28])"
            ]
          },
          "metadata": {
            "tags": []
          },
          "execution_count": 171
        }
      ]
    },
    {
      "cell_type": "markdown",
      "metadata": {
        "id": "O7PhwaUdHF0j"
      },
      "source": [
        "Let’s plot the image now, and we’ll see why we squeezed the tensor in the first place. We first squeeze the tensor and then pass it to the imshow() function."
      ]
    },
    {
      "cell_type": "code",
      "metadata": {
        "colab": {
          "base_uri": "https://localhost:8080/",
          "height": 336
        },
        "id": "jR0P9r7_HGn0",
        "outputId": "3d294f2f-6753-435a-e154-051117a078c8"
      },
      "source": [
        "plt.imshow(image[0].squeeze().reshape(28,28), cmap=\"gray\")\n",
        "torch.tensor(label[0])"
      ],
      "execution_count": null,
      "outputs": [
        {
          "output_type": "stream",
          "text": [
            "/usr/local/lib/python3.6/dist-packages/ipykernel_launcher.py:2: UserWarning: To copy construct from a tensor, it is recommended to use sourceTensor.clone().detach() or sourceTensor.clone().detach().requires_grad_(True), rather than torch.tensor(sourceTensor).\n",
            "  \n"
          ],
          "name": "stderr"
        },
        {
          "output_type": "execute_result",
          "data": {
            "text/plain": [
              "tensor(1)"
            ]
          },
          "metadata": {
            "tags": []
          },
          "execution_count": 172
        },
        {
          "output_type": "display_data",
          "data": {
            "image/png": "[encoded data removed]",
            "text/plain": [
              "<Figure size 432x288 with 1 Axes>"
            ]
          },
          "metadata": {
            "tags": [],
            "needs_background": "light"
          }
        }
      ]
    },
    {
      "cell_type": "markdown",
      "metadata": {
        "id": "E7u3459tHjgR"
      },
      "source": [
        "we have 100 images with a shape of (1,28,28) because we have fixed the batch size =100\n"
      ]
    },
    {
      "cell_type": "markdown",
      "metadata": {
        "id": "Z59gSWRRIFDU"
      },
      "source": [
        "Now we will creat data loader with a smaller batch size of 100"
      ]
    },
    {
      "cell_type": "markdown",
      "metadata": {
        "id": "Cj8p1HkJJJwo"
      },
      "source": [
        "example of getting a sample of loader data"
      ]
    },
    {
      "cell_type": "code",
      "metadata": {
        "colab": {
          "base_uri": "https://localhost:8080/",
          "height": 282
        },
        "id": "idkIaDcBIWUf",
        "outputId": "0ac22e44-48eb-4102-ecc0-fd874be5da11"
      },
      "source": [
        "sampleloder=next(iter(train_loader))\n",
        "len(sampleloder)\n",
        "sampleloder[0][0].shape\n",
        "plt.imshow(sampleloder[0][0].squeeze(), cmap=\"gray\")\n",
        "print(sampleloder[1][0])"
      ],
      "execution_count": null,
      "outputs": [
        {
          "output_type": "stream",
          "text": [
            "tensor(5)\n"
          ],
          "name": "stdout"
        },
        {
          "output_type": "display_data",
          "data": {
            "image/png": "[encoded data removed]",
            "text/plain": [
              "<Figure size 432x288 with 1 Axes>"
            ]
          },
          "metadata": {
            "tags": [],
            "needs_background": "light"
          }
        }
      ]
    },
    {
      "cell_type": "code",
      "metadata": {
        "colab": {
          "base_uri": "https://localhost:8080/"
        },
        "id": "8teOv-kBJvGu",
        "outputId": "d5e400ee-4db0-4729-eef3-532bc6267237"
      },
      "source": [
        "batch = next(iter(train_loader))\n",
        "images, labels = batch\n",
        "\n",
        "print('types:', type(images), type(labels))\n",
        "print('shapes:', images.shape, labels.shape)"
      ],
      "execution_count": null,
      "outputs": [
        {
          "output_type": "stream",
          "text": [
            "types: <class 'torch.Tensor'> <class 'torch.Tensor'>\n",
            "shapes: torch.Size([100, 1, 28, 28]) torch.Size([100])\n"
          ],
          "name": "stdout"
        }
      ]
    },
    {
      "cell_type": "markdown",
      "metadata": {
        "id": "4LYXZCQcKizy"
      },
      "source": [
        "To plot a batch of images, we can use the torchvision.utils.make_grid() function to create a grid that can be plotted like so:"
      ]
    },
    {
      "cell_type": "code",
      "metadata": {
        "colab": {
          "base_uri": "https://localhost:8080/",
          "height": 127
        },
        "id": "3MXZ4PvyKke5",
        "outputId": "b7d37b55-43fe-4e45-b94f-13431d657d8c"
      },
      "source": [
        "grid = torchvision.utils.make_grid(images[:10], nrow=10)\n",
        "\n",
        "plt.figure(figsize=(10,10))\n",
        "plt.imshow(np.transpose(grid, (1,2,0)))\n",
        "# the permute() PyTorch tensor method can be used in place of np.transpose()\n",
        "print('labels:', labels[:10])\n"
      ],
      "execution_count": null,
      "outputs": [
        {
          "output_type": "stream",
          "text": [
            "labels: tensor([6, 2, 9, 9, 3, 8, 4, 8, 6, 7])\n"
          ],
          "name": "stdout"
        },
        {
          "output_type": "display_data",
          "data": {
            "image/png": "[encoded data removed]",
            "text/plain": [
              "<Figure size 720x720 with 1 Axes>"
            ]
          },
          "metadata": {
            "tags": [],
            "needs_background": "light"
          }
        }
      ]
    },
    {
      "cell_type": "markdown",
      "metadata": {
        "id": "UGGJAqCIMWvh"
      },
      "source": [
        "another way to plot the images using the PyTorch DataLoader"
      ]
    },
    {
      "cell_type": "code",
      "metadata": {
        "colab": {
          "base_uri": "https://localhost:8080/",
          "height": 307
        },
        "id": "AmZxtVCXMYtP",
        "outputId": "1c56c0c0-bcf9-4637-cad0-47e5ca5ca7d0"
      },
      "source": [
        "how_many_to_plot = 20\n",
        "\n",
        "plt.figure(figsize=(50,50))\n",
        "for i, batch in enumerate(train_loader, start=1):\n",
        "    image, label = batch\n",
        "    plt.subplot(10,10,i)\n",
        "    plt.imshow(image[i].reshape(28,28), cmap='gray')\n",
        "    plt.axis('off')\n",
        "    plt.title(train_dataset.classes[label[i]], fontsize=28)\n",
        "    if (i >= how_many_to_plot): break\n",
        "plt.show()"
      ],
      "execution_count": null,
      "outputs": [
        {
          "output_type": "display_data",
          "data": {
            "image/png": "[encoded data removed]",
            "text/plain": [
              "<Figure size 3600x3600 with 20 Axes>"
            ]
          },
          "metadata": {
            "tags": [],
            "needs_background": "light"
          }
        }
      ]
    },
    {
      "cell_type": "code",
      "metadata": {
        "id": "OVTowVm8EVZ_"
      },
      "source": [
        ""
      ],
      "execution_count": null,
      "outputs": []
    },
    {
      "cell_type": "markdown",
      "metadata": {
        "id": "HUInkOIZOlXr"
      },
      "source": [
        "BUILDING OF THE MODELE\n"
      ]
    },
    {
      "cell_type": "code",
      "metadata": {
        "id": "fx7It2Hr6KR8"
      },
      "source": [
        "class LogisticRegression(nn.Module): \n",
        "    def __init__(self, input_size, num_classes): \n",
        "        super(LogisticRegression, self).__init__() \n",
        "        self.linear = nn.Linear(input_size, num_classes) \n",
        "  \n",
        "    def forward(self, x): \n",
        "        out = self.linear(x) \n",
        "        return out "
      ],
      "execution_count": null,
      "outputs": []
    },
    {
      "cell_type": "code",
      "metadata": {
        "id": "0ay6-5sw6XnD"
      },
      "source": [
        "model = LogisticRegression(input_size, num_classes) "
      ],
      "execution_count": null,
      "outputs": []
    },
    {
      "cell_type": "code",
      "metadata": {
        "id": "cXYOVa_K6ZoC"
      },
      "source": [
        "criterion = nn.CrossEntropyLoss() \n",
        "optimizer = torch.optim.SGD(model.parameters(), lr = learning_rate) \n"
      ],
      "execution_count": null,
      "outputs": []
    },
    {
      "cell_type": "code",
      "metadata": {
        "id": "m58-6Po56chJ"
      },
      "source": [
        "# Training the Model \n",
        "for epoch in range(num_epochs): \n",
        "    for i, (images, labels) in enumerate(train_loader): \n",
        "        images = Variable(images.view(-1, 28 * 28)) \n",
        "        labels = Variable(labels) \n",
        "  \n",
        "        # Forward + Backward + Optimize \n",
        "        optimizer.zero_grad() \n",
        "        outputs = model(images) \n",
        "        loss = criterion(outputs, labels) \n",
        "        loss.backward() \n",
        "        optimizer.step() \n",
        "  \n",
        "        "
      ],
      "execution_count": null,
      "outputs": []
    },
    {
      "cell_type": "markdown",
      "metadata": {
        "id": "7EIyq5d4VbNM"
      },
      "source": [
        "TESTING our model"
      ]
    },
    {
      "cell_type": "code",
      "metadata": {
        "colab": {
          "base_uri": "https://localhost:8080/"
        },
        "id": "UXNDCkHw6f8z",
        "outputId": "747a0f1c-537d-46f8-cf99-74d2aac9d087"
      },
      "source": [
        "# Test the Model \n",
        "import matplotlib.pyplot as plt\n",
        "correct = 0\n",
        "total = 0\n",
        "for images, labels in test_loader: \n",
        "    images = Variable(images.view(-1, 28 * 28)) \n",
        "    outputs = model(images) \n",
        "    _, predicted = torch.max(outputs.data, 1)\n",
        "    \n",
        "    total += labels.size(0) \n",
        "    correct += (predicted == labels).sum() \n",
        "  \n",
        "print('Accuracy of the model on the 10000 test images: % d %%' % ( \n",
        "            100 * correct / total))"
      ],
      "execution_count": null,
      "outputs": [
        {
          "output_type": "stream",
          "text": [
            "Accuracy of the model on the 10000 test images:  82 %\n"
          ],
          "name": "stdout"
        }
      ]
    },
    {
      "cell_type": "markdown",
      "metadata": {
        "id": "DLDJSgM2SnvL"
      },
      "source": [
        "example te3 sample numero 50 men test_loder"
      ]
    },
    {
      "cell_type": "code",
      "metadata": {
        "colab": {
          "base_uri": "https://localhost:8080/",
          "height": 282
        },
        "id": "cm2-QX3XRGY1",
        "outputId": "b6aa1fba-b779-46df-f7f8-4200eaec042b"
      },
      "source": [
        "samplelodertest=next(iter(test_loader))\n",
        "\n",
        "img = Variable(samplelodertest[0][50].view(-1, 28 * 28)) \n",
        "outp=model(img)\n",
        "_,pre=torch.max(outp.data, 1)\n",
        "plt.imshow(samplelodertest[0][50].squeeze(), cmap=\"gray\")\n",
        "print(pre)"
      ],
      "execution_count": null,
      "outputs": [
        {
          "output_type": "stream",
          "text": [
            "tensor([6])\n"
          ],
          "name": "stdout"
        },
        {
          "output_type": "display_data",
          "data": {
            "image/png": "[encoded data removed]",
            "text/plain": [
              "<Figure size 432x288 with 1 Axes>"
            ]
          },
          "metadata": {
            "tags": [],
            "needs_background": "light"
          }
        }
      ]
    },
    {
      "cell_type": "markdown",
      "metadata": {
        "id": "OeL_ocNfUpIv"
      },
      "source": [
        "example te3 20 samples"
      ]
    },
    {
      "cell_type": "code",
      "metadata": {
        "colab": {
          "base_uri": "https://localhost:8080/",
          "height": 307
        },
        "id": "rz6nE94s6OoV",
        "outputId": "13e53af1-1c2b-40f0-b692-d60b62885183"
      },
      "source": [
        "how_many_to_plot = 20\n",
        "\n",
        "plt.figure(figsize=(50,50))\n",
        "for i, batch in enumerate(test_loader, start=1):\n",
        "    image, label = batch\n",
        "    plt.subplot(10,10,i)\n",
        "    plt.imshow(image[i].reshape(28,28), cmap='gray')\n",
        "    plt.axis('off')\n",
        "    imgi = Variable(image[i].view(-1, 28 * 28)) \n",
        "    outpi=model(imgi)\n",
        "    _,predictioni=torch.max(outpi.data, 1)\n",
        "    plt.title(test_dataset.classes[predictioni], fontsize=28)\n",
        "    if (i >= how_many_to_plot): break\n",
        "plt.show()"
      ],
      "execution_count": null,
      "outputs": [
        {
          "output_type": "display_data",
          "data": {
            "image/png": "[encoded data removed]",
            "text/plain": [
              "<Figure size 3600x3600 with 20 Axes>"
            ]
          },
          "metadata": {
            "tags": [],
            "needs_background": "light"
          }
        }
      ]
    },
    {
      "cell_type": "markdown",
      "metadata": {
        "id": "yf-01k8HUnGF"
      },
      "source": [
        "FINALLYYYYYYYYYYYYYYYYYYYYYYYYYYYYYYYYYYYYYYYY :p\n",
        "\n",
        "on peut ameliorer our accuracy with CNN"
      ]
    }
  ]
}